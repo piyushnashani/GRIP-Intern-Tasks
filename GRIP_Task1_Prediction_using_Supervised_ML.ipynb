{
  "nbformat": 4,
  "nbformat_minor": 0,
  "metadata": {
    "colab": {
      "name": "TheSparksFoundation_task1.ipynb",
      "provenance": [],
      "collapsed_sections": [],
      "authorship_tag": "ABX9TyPMiw+32Dbltn/jnE02unqf",
      "include_colab_link": true
    },
    "kernelspec": {
      "name": "python3",
      "display_name": "Python 3"
    },
    "language_info": {
      "name": "python"
    }
  },
  "cells": [
    {
      "cell_type": "markdown",
      "metadata": {
        "id": "view-in-github",
        "colab_type": "text"
      },
      "source": [
        "<a href=\"https://colab.research.google.com/github/piyushnashani/GRIP-Intern-Tasks/blob/main/GRIP_Task1_Prediction_using_Supervised_ML.ipynb\" target=\"_parent\"><img src=\"https://colab.research.google.com/assets/colab-badge.svg\" alt=\"Open In Colab\"/></a>"
      ]
    },
    {
      "cell_type": "markdown",
      "metadata": {
        "id": "-fC8wih_atXn"
      },
      "source": [
        "# **The Sparks Foundation - GRIP JUN'21**\n",
        "# **Data Science and Business Analytics Intern**\n",
        "\n",
        "> **Task 1: The objective is to predict the percentage scored by students when number of hours studied by the student is provided**\n",
        "\n",
        "#### Done by: **Piyush Prakash Nashani**"
      ]
    },
    {
      "cell_type": "markdown",
      "metadata": {
        "id": "kPs4AR6J_ULu"
      },
      "source": [
        "\n",
        "\n",
        "**Step 1: Import the libraries**\n",
        "\n",
        "\n"
      ]
    },
    {
      "cell_type": "code",
      "metadata": {
        "id": "SSzHt5wYljmu"
      },
      "source": [
        "import numpy as np\n",
        "import pandas as pd\n",
        "import matplotlib.pyplot as plt"
      ],
      "execution_count": 161,
      "outputs": []
    },
    {
      "cell_type": "markdown",
      "metadata": {
        "id": "3ThoP2H2AiNa"
      },
      "source": [
        "**Step 2: Import the dataset**\n"
      ]
    },
    {
      "cell_type": "code",
      "metadata": {
        "colab": {
          "base_uri": "https://localhost:8080/",
          "height": 203
        },
        "id": "4NDEmZ52lsUW",
        "outputId": "0b8e3bc0-16a9-448c-9964-3ac1e18fc72a"
      },
      "source": [
        "path=\"https://raw.githubusercontent.com/AdiPersonalWorks/Random/master/student_scores%20-%20student_scores.csv\"\n",
        "data=pd.read_csv(path)\n",
        "data.head()               # Head function displays the data, by default shows 5 rows"
      ],
      "execution_count": 199,
      "outputs": [
        {
          "output_type": "execute_result",
          "data": {
            "text/html": [
              "<div>\n",
              "<style scoped>\n",
              "    .dataframe tbody tr th:only-of-type {\n",
              "        vertical-align: middle;\n",
              "    }\n",
              "\n",
              "    .dataframe tbody tr th {\n",
              "        vertical-align: top;\n",
              "    }\n",
              "\n",
              "    .dataframe thead th {\n",
              "        text-align: right;\n",
              "    }\n",
              "</style>\n",
              "<table border=\"1\" class=\"dataframe\">\n",
              "  <thead>\n",
              "    <tr style=\"text-align: right;\">\n",
              "      <th></th>\n",
              "      <th>Hours</th>\n",
              "      <th>Scores</th>\n",
              "    </tr>\n",
              "  </thead>\n",
              "  <tbody>\n",
              "    <tr>\n",
              "      <th>0</th>\n",
              "      <td>2.5</td>\n",
              "      <td>21</td>\n",
              "    </tr>\n",
              "    <tr>\n",
              "      <th>1</th>\n",
              "      <td>5.1</td>\n",
              "      <td>47</td>\n",
              "    </tr>\n",
              "    <tr>\n",
              "      <th>2</th>\n",
              "      <td>3.2</td>\n",
              "      <td>27</td>\n",
              "    </tr>\n",
              "    <tr>\n",
              "      <th>3</th>\n",
              "      <td>8.5</td>\n",
              "      <td>75</td>\n",
              "    </tr>\n",
              "    <tr>\n",
              "      <th>4</th>\n",
              "      <td>3.5</td>\n",
              "      <td>30</td>\n",
              "    </tr>\n",
              "  </tbody>\n",
              "</table>\n",
              "</div>"
            ],
            "text/plain": [
              "   Hours  Scores\n",
              "0    2.5      21\n",
              "1    5.1      47\n",
              "2    3.2      27\n",
              "3    8.5      75\n",
              "4    3.5      30"
            ]
          },
          "metadata": {
            "tags": []
          },
          "execution_count": 199
        }
      ]
    },
    {
      "cell_type": "code",
      "metadata": {
        "colab": {
          "base_uri": "https://localhost:8080/"
        },
        "id": "p4VKjLBIlwpa",
        "outputId": "8ac2319f-8120-4e29-9098-be2500cc2cbd"
      },
      "source": [
        "# Checking for any the data with null values\n",
        "data.isnull().sum()"
      ],
      "execution_count": 200,
      "outputs": [
        {
          "output_type": "execute_result",
          "data": {
            "text/plain": [
              "Hours     0\n",
              "Scores    0\n",
              "dtype: int64"
            ]
          },
          "metadata": {
            "tags": []
          },
          "execution_count": 200
        }
      ]
    },
    {
      "cell_type": "code",
      "metadata": {
        "id": "hISTA_w0mv3E",
        "colab": {
          "base_uri": "https://localhost:8080/"
        },
        "outputId": "a20fbb08-898a-40cb-8d8f-ae7083c57f8b"
      },
      "source": [
        "#Reshapping the x and y data to transform them into 2D array\n",
        "x=data[\"Hours\"].values\n",
        "x=x.reshape(-1,1)\n",
        "y=data[\"Scores\"].values\n",
        "y=y.reshape(-1,1)\n",
        "print(x,\"\\n\\n\",y)"
      ],
      "execution_count": 201,
      "outputs": [
        {
          "output_type": "stream",
          "text": [
            "[[2.5]\n",
            " [5.1]\n",
            " [3.2]\n",
            " [8.5]\n",
            " [3.5]\n",
            " [1.5]\n",
            " [9.2]\n",
            " [5.5]\n",
            " [8.3]\n",
            " [2.7]\n",
            " [7.7]\n",
            " [5.9]\n",
            " [4.5]\n",
            " [3.3]\n",
            " [1.1]\n",
            " [8.9]\n",
            " [2.5]\n",
            " [1.9]\n",
            " [6.1]\n",
            " [7.4]\n",
            " [2.7]\n",
            " [4.8]\n",
            " [3.8]\n",
            " [6.9]\n",
            " [7.8]] \n",
            "\n",
            " [[21]\n",
            " [47]\n",
            " [27]\n",
            " [75]\n",
            " [30]\n",
            " [20]\n",
            " [88]\n",
            " [60]\n",
            " [81]\n",
            " [25]\n",
            " [85]\n",
            " [62]\n",
            " [41]\n",
            " [42]\n",
            " [17]\n",
            " [95]\n",
            " [30]\n",
            " [24]\n",
            " [67]\n",
            " [69]\n",
            " [30]\n",
            " [54]\n",
            " [35]\n",
            " [76]\n",
            " [86]]\n"
          ],
          "name": "stdout"
        }
      ]
    },
    {
      "cell_type": "markdown",
      "metadata": {
        "id": "PbWi56P2DKiC"
      },
      "source": [
        "**Step 3: Split the data into training and testing data**"
      ]
    },
    {
      "cell_type": "code",
      "metadata": {
        "id": "Bwx1ae5Pmchv"
      },
      "source": [
        "from sklearn.model_selection import train_test_split"
      ],
      "execution_count": 202,
      "outputs": []
    },
    {
      "cell_type": "code",
      "metadata": {
        "colab": {
          "base_uri": "https://localhost:8080/"
        },
        "id": "Anw_By7xuc3M",
        "outputId": "b427ac44-d5c0-4e90-f83d-855f540816d9"
      },
      "source": [
        "xtrain,xtest,ytrain,ytest=train_test_split(x,y,test_size=0.25)\n",
        "len(xtrain)"
      ],
      "execution_count": 203,
      "outputs": [
        {
          "output_type": "execute_result",
          "data": {
            "text/plain": [
              "18"
            ]
          },
          "metadata": {
            "tags": []
          },
          "execution_count": 203
        }
      ]
    },
    {
      "cell_type": "markdown",
      "metadata": {
        "id": "N5mBImUJDma9"
      },
      "source": [
        "**Step 4: Build a Simple Linear Regression Model**"
      ]
    },
    {
      "cell_type": "code",
      "metadata": {
        "id": "0UE90fXLuxej"
      },
      "source": [
        "from sklearn.linear_model import LinearRegression\n",
        "model=LinearRegression()"
      ],
      "execution_count": 204,
      "outputs": []
    },
    {
      "cell_type": "markdown",
      "metadata": {
        "id": "MfE6htx1DrUO"
      },
      "source": [
        "**Step 5: Train the model on the dataset**"
      ]
    },
    {
      "cell_type": "code",
      "metadata": {
        "colab": {
          "base_uri": "https://localhost:8080/"
        },
        "id": "yTRQ_qpVvAS-",
        "outputId": "72d28f86-d3fa-4857-e72c-c5b03920189e"
      },
      "source": [
        "model.fit(xtrain,ytrain)"
      ],
      "execution_count": 205,
      "outputs": [
        {
          "output_type": "execute_result",
          "data": {
            "text/plain": [
              "LinearRegression(copy_X=True, fit_intercept=True, n_jobs=None, normalize=False)"
            ]
          },
          "metadata": {
            "tags": []
          },
          "execution_count": 205
        }
      ]
    },
    {
      "cell_type": "markdown",
      "metadata": {
        "id": "THQ3uTEuD6x-"
      },
      "source": [
        "\n",
        "**Step 6: Get the predicted scores**"
      ]
    },
    {
      "cell_type": "code",
      "metadata": {
        "colab": {
          "base_uri": "https://localhost:8080/",
          "height": 265
        },
        "id": "PkOEOMRkvpGZ",
        "outputId": "b0a6d75e-0170-4e10-e50e-93edd4dd825d"
      },
      "source": [
        "ypred=model.predict(xtest)\n",
        "ypredall=model.predict(x)             #Calculating for the prediction of Cost function\n",
        "ypred = np. reshape(ypred, 7)\n",
        "ytest=np.reshape(ytest,7)\n",
        "s1=pd.Series(ytest)\n",
        "s2=pd.Series(ypred)\n",
        "df=pd.DataFrame()\n",
        "df[\"YTest\"]=s1\n",
        "df[\"YPred\"]=s2\n",
        "df"
      ],
      "execution_count": 206,
      "outputs": [
        {
          "output_type": "execute_result",
          "data": {
            "text/html": [
              "<div>\n",
              "<style scoped>\n",
              "    .dataframe tbody tr th:only-of-type {\n",
              "        vertical-align: middle;\n",
              "    }\n",
              "\n",
              "    .dataframe tbody tr th {\n",
              "        vertical-align: top;\n",
              "    }\n",
              "\n",
              "    .dataframe thead th {\n",
              "        text-align: right;\n",
              "    }\n",
              "</style>\n",
              "<table border=\"1\" class=\"dataframe\">\n",
              "  <thead>\n",
              "    <tr style=\"text-align: right;\">\n",
              "      <th></th>\n",
              "      <th>YTest</th>\n",
              "      <th>YPred</th>\n",
              "    </tr>\n",
              "  </thead>\n",
              "  <tbody>\n",
              "    <tr>\n",
              "      <th>0</th>\n",
              "      <td>30</td>\n",
              "      <td>28.386895</td>\n",
              "    </tr>\n",
              "    <tr>\n",
              "      <th>1</th>\n",
              "      <td>21</td>\n",
              "      <td>26.470252</td>\n",
              "    </tr>\n",
              "    <tr>\n",
              "      <th>2</th>\n",
              "      <td>20</td>\n",
              "      <td>16.887040</td>\n",
              "    </tr>\n",
              "    <tr>\n",
              "      <th>3</th>\n",
              "      <td>86</td>\n",
              "      <td>77.261280</td>\n",
              "    </tr>\n",
              "    <tr>\n",
              "      <th>4</th>\n",
              "      <td>24</td>\n",
              "      <td>20.720325</td>\n",
              "    </tr>\n",
              "    <tr>\n",
              "      <th>5</th>\n",
              "      <td>60</td>\n",
              "      <td>55.219891</td>\n",
              "    </tr>\n",
              "    <tr>\n",
              "      <th>6</th>\n",
              "      <td>76</td>\n",
              "      <td>68.636389</td>\n",
              "    </tr>\n",
              "  </tbody>\n",
              "</table>\n",
              "</div>"
            ],
            "text/plain": [
              "   YTest      YPred\n",
              "0     30  28.386895\n",
              "1     21  26.470252\n",
              "2     20  16.887040\n",
              "3     86  77.261280\n",
              "4     24  20.720325\n",
              "5     60  55.219891\n",
              "6     76  68.636389"
            ]
          },
          "metadata": {
            "tags": []
          },
          "execution_count": 206
        }
      ]
    },
    {
      "cell_type": "markdown",
      "metadata": {
        "id": "wVEiYSKoETlv"
      },
      "source": [
        "***step 7: Accuracy, mean_squared_error and Cost function calculation using the preditctions***"
      ]
    },
    {
      "cell_type": "code",
      "metadata": {
        "id": "9QaW0gxJv4L5"
      },
      "source": [
        "from sklearn.metrics import r2_score"
      ],
      "execution_count": 207,
      "outputs": []
    },
    {
      "cell_type": "code",
      "metadata": {
        "colab": {
          "base_uri": "https://localhost:8080/"
        },
        "id": "a1wdfXvmwT6X",
        "outputId": "96fa7828-3bfe-4f43-971d-3f5f1efcaefe"
      },
      "source": [
        "r2=r2_score(ytest,ypred)\n",
        "r2 ##95%"
      ],
      "execution_count": 208,
      "outputs": [
        {
          "output_type": "execute_result",
          "data": {
            "text/plain": [
              "0.9563931292260119"
            ]
          },
          "metadata": {
            "tags": []
          },
          "execution_count": 208
        }
      ]
    },
    {
      "cell_type": "code",
      "metadata": {
        "id": "csiW6m7_wsEP",
        "colab": {
          "base_uri": "https://localhost:8080/"
        },
        "outputId": "9a77ec7d-0a04-4914-f52b-4a3898bb34b9"
      },
      "source": [
        "mse=mean_squared_error(ytest,ypred)\n",
        "print(\"mean_squared_error= \", mse)\n",
        "Cost_function=(mean_squared_error(y,ypredall))/2\n",
        "print(\"Cost function value= \",Cost_function)"
      ],
      "execution_count": 209,
      "outputs": [
        {
          "output_type": "stream",
          "text": [
            "mean_squared_error=  29.48714400459835\n",
            "Cost function value=  14.993603293520028\n"
          ],
          "name": "stdout"
        }
      ]
    },
    {
      "cell_type": "markdown",
      "metadata": {
        "id": "9yzp_E2FEs-x"
      },
      "source": [
        "**Step 8: Data Visualization**\n",
        "\n"
      ]
    },
    {
      "cell_type": "code",
      "metadata": {
        "id": "ZkqL5isYwyV8",
        "colab": {
          "base_uri": "https://localhost:8080/",
          "height": 543
        },
        "outputId": "6d81feb2-2ded-4a0f-f4cc-c3d0a0d7734c"
      },
      "source": [
        "plt.scatter(xtrain,ytrain,color='green',label=\"Training Data\")\n",
        "plt.legend()\n",
        "plt.show()\n",
        "plt.plot(xtest,ypred,color='red',label=\"line of Regression\")\n",
        "plt.scatter(xtest,ytest,color='blue', label=\"Testing data\")\n",
        "plt.title('Hours vs Percentage', fontdict= { 'color':'blue'} )\n",
        "plt.xlabel('Hours Studied')  \n",
        "plt.ylabel('Percentage Scored') \n",
        "plt.legend()\n",
        "plt.show()"
      ],
      "execution_count": 210,
      "outputs": [
        {
          "output_type": "display_data",
          "data": {
            "image/png": "[encoded data removed]",
            "text/plain": [
              "<Figure size 432x288 with 1 Axes>"
            ]
          },
          "metadata": {
            "tags": [],
            "needs_background": "light"
          }
        },
        {
          "output_type": "display_data",
          "data": {
            "image/png": "[encoded data removed]",
            "text/plain": [
              "<Figure size 432x288 with 1 Axes>"
            ]
          },
          "metadata": {
            "tags": [],
            "needs_background": "light"
          }
        }
      ]
    },
    {
      "cell_type": "markdown",
      "metadata": {
        "id": "lyzMlrqwFJjA"
      },
      "source": [
        "## **What will be predicted score if a student studies for 9.25 hrs/ day?**"
      ]
    },
    {
      "cell_type": "code",
      "metadata": {
        "id": "Jh0MhDU5xIcd",
        "colab": {
          "base_uri": "https://localhost:8080/"
        },
        "outputId": "8c1976c2-74f2-4f16-ee5d-76f1b2130aa6"
      },
      "source": [
        "##method 1 using y=mx+c\n",
        "m=model.coef_\n",
        "c=model.intercept_\n",
        "x=9.25\n",
        "y=m*x+c\n",
        "y"
      ],
      "execution_count": 211,
      "outputs": [
        {
          "output_type": "execute_result",
          "data": {
            "text/plain": [
              "array([[91.15693847]])"
            ]
          },
          "metadata": {
            "tags": []
          },
          "execution_count": 211
        }
      ]
    },
    {
      "cell_type": "code",
      "metadata": {
        "id": "TdRhJx1_yQXq",
        "colab": {
          "base_uri": "https://localhost:8080/"
        },
        "outputId": "a07b5142-44cb-4fe6-a9cf-f89c04637e23"
      },
      "source": [
        "##method 2 using function\n",
        "model.predict(np.array([[9.25]]))"
      ],
      "execution_count": 212,
      "outputs": [
        {
          "output_type": "execute_result",
          "data": {
            "text/plain": [
              "array([[91.15693847]])"
            ]
          },
          "metadata": {
            "tags": []
          },
          "execution_count": 212
        }
      ]
    },
    {
      "cell_type": "code",
      "metadata": {
        "id": "CK2rrqKHyTws"
      },
      "source": [
        ""
      ],
      "execution_count": 175,
      "outputs": []
    }
  ]
}